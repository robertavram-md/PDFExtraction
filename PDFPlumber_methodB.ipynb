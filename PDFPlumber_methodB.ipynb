{
 "cells": [
  {
   "cell_type": "code",
   "execution_count": 4,
   "metadata": {},
   "outputs": [],
   "source": [
    "import pdfplumber"
   ]
  },
  {
   "cell_type": "code",
   "execution_count": 17,
   "metadata": {},
   "outputs": [],
   "source": [
    "def read_pdf_extract_text(path, output_path):\n",
    "    import pathlib\n",
    "    with pdfplumber.open(path) as pdf:\n",
    "        pdf_text = ''\n",
    "        for i in range(0, len(pdf.pages)):\n",
    "            page = pdf.pages[i]\n",
    "            text = page.extract_text()\n",
    "            pdf_text = pdf_text + ' ' + text \n",
    "        pdf.close()\n",
    "    pathlib.Path(output_path).write_text(pdf_text)"
   ]
  },
  {
   "cell_type": "code",
   "execution_count": 18,
   "metadata": {},
   "outputs": [],
   "source": [
    "paths = ['data/1.pdf','data/2.pdf','data/3.pdf','data/4.pdf']\n",
    "i = 0\n",
    "for path in paths:\n",
    "    i = i + 1\n",
    "    output_path = 'data/' + str(i) + '_pdfplumber.txt'\n",
    "    read_pdf_extract_text(path, output_path)"
   ]
  },
  {
   "cell_type": "code",
   "execution_count": null,
   "metadata": {},
   "outputs": [],
   "source": []
  }
 ],
 "metadata": {
  "kernelspec": {
   "display_name": "Python 3",
   "language": "python",
   "name": "python3"
  },
  "language_info": {
   "codemirror_mode": {
    "name": "ipython",
    "version": 3
   },
   "file_extension": ".py",
   "mimetype": "text/x-python",
   "name": "python",
   "nbconvert_exporter": "python",
   "pygments_lexer": "ipython3",
   "version": "3.7.0"
  }
 },
 "nbformat": 4,
 "nbformat_minor": 2
}
